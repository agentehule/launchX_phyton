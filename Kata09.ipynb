{
 "cells": [
  {
   "cell_type": "markdown",
   "metadata": {},
   "source": [
    "## Módulo 9\n",
    "Ejercicio 1"
   ]
  },
  {
   "cell_type": "code",
   "execution_count": 47,
   "metadata": {},
   "outputs": [
    {
     "name": "stdout",
     "output_type": "stream",
     "text": [
      "Reporte de combustible:\n",
      "    Promedio total: 91.66666666666667%\n",
      "    Tanque Principal: 95%\n",
      "    Tanque Externo: 81%\n",
      "    Tanque Hidrogeno: 99% \n",
      "    \n",
      "Reporte de combustible:\n",
      "    Promedio total: 43.666666666666664%\n",
      "    Tanque Principal: 60%\n",
      "    Tanque Externo: 51%\n",
      "    Tanque Hidrogeno: 20% \n",
      "    \n"
     ]
    }
   ],
   "source": [
    "def informe(tanqueprincipal, tanqueexterno, tanquehidrogeno):\n",
    "    promedio_total = (tanqueprincipal + tanqueexterno + tanquehidrogeno) / 3\n",
    "    return f\"\"\"Reporte de combustible:\n",
    "    Promedio total: {promedio_total}%\n",
    "    Tanque Principal: {tanqueprincipal}%\n",
    "    Tanque Externo: {tanqueexterno}%\n",
    "    Tanque Hidrogeno: {tanquehidrogeno}% \n",
    "    \"\"\"\n",
    "\n",
    "print(informe(95, 81, 99))\n",
    "\n",
    "def promedio(values):\n",
    "    total = sum(values)\n",
    "    total_valores = len(values)\n",
    "    return total / total_valores\n",
    "\n",
    "promedio([80, 85, 81]) \n",
    "\n",
    "def informe(tanqueprincipal, tanqueexterno, tanquehidrogeno):\n",
    "    return f\"\"\"Reporte de combustible:\n",
    "    Promedio total: {promedio([tanqueprincipal, tanqueexterno, tanquehidrogeno])}%\n",
    "    Tanque Principal: {tanqueprincipal}%\n",
    "    Tanque Externo: {tanqueexterno}%\n",
    "    Tanque Hidrogeno: {tanquehidrogeno}% \n",
    "    \"\"\"\n",
    "\n",
    "\n",
    "print(informe(60, 51, 20))"
   ]
  },
  {
   "cell_type": "markdown",
   "metadata": {},
   "source": [
    "\n",
    "Ejercicio 2"
   ]
  },
  {
   "cell_type": "code",
   "execution_count": 48,
   "metadata": {},
   "outputs": [
    {
     "name": "stdout",
     "output_type": "stream",
     "text": [
      "\n",
      "    Destino de la misión: Jupiter\n",
      "    Tiempo total de vuelo: 113 minutos\n",
      "    Total combustible restante: 500000 gallons\n",
      "    \n",
      "\n",
      "    Destino de la misión: Urano\n",
      "    Tiempo total de vuelo: 178 minutos\n",
      "    Total combustible restante: 370000\n",
      "    \n",
      "\n",
      "    Destino de la misión: Plutón\n",
      "    Tiempo total de vuelo: 217 minutos\n",
      "    Total combustible restante: 240000\n",
      "    Tanque principal --> 150000 galones restantes\n",
      "Tanque externo --> 90000 galones restantes\n",
      "\n"
     ]
    }
   ],
   "source": [
    "\n",
    "\n",
    "def reporte_mision(tiempo_prelanzamiento, tiempodeviaje, destino, tanqueexterno, tanqueprincipal):\n",
    "    return f\"\"\"\n",
    "    Destino de la misión: {destino}\n",
    "    Tiempo total de vuelo: {tiempo_prelanzamiento + tiempodeviaje} minutos\n",
    "    Total combustible restante: {tanqueexterno + tanqueprincipal} gallons\n",
    "    \"\"\"\n",
    "\n",
    "print(reporte_mision(14, 99, \"Jupiter\", 200000, 300000))\n",
    "\n",
    "\n",
    "def reporte_mision(destino, *minutos, **reserva_combustible):\n",
    "    return f\"\"\"\n",
    "    Destino de la misión: {destino}\n",
    "    Tiempo total de vuelo: {sum(minutos)} minutos\n",
    "    Total combustible restante: {sum(reserva_combustible.values())}\n",
    "    \"\"\"\n",
    "\n",
    "print(reporte_mision(\"Urano\", 14, 113, 51, principal=250000, externo=120000))\n",
    "\n",
    "\n",
    "def reporte_mision(destino, *minutos, **reserva_combustible):\n",
    "    Reporte_principal = f\"\"\"\n",
    "    Destino de la misión: {destino}\n",
    "    Tiempo total de vuelo: {sum(minutos)} minutos\n",
    "    Total combustible restante: {sum(reserva_combustible.values())}\n",
    "    \"\"\"\n",
    "    for tanque, galones in reserva_combustible.items():\n",
    "        Reporte_principal += f\"Tanque {tanque} --> {galones} galones restantes\\n\"\n",
    "    return Reporte_principal\n",
    "\n",
    "print(reporte_mision(\"Plutón\", 14, 178, 25, principal=150000, externo=90000))"
   ]
  }
 ],
 "metadata": {
  "interpreter": {
   "hash": "2c81d56ff54570a98b309bc706ec3355e18e14e7ca493697e053789ee4afa6ac"
  },
  "kernelspec": {
   "display_name": "Python 3.10.2 64-bit",
   "language": "python",
   "name": "python3"
  },
  "language_info": {
   "codemirror_mode": {
    "name": "ipython",
    "version": 3
   },
   "file_extension": ".py",
   "mimetype": "text/x-python",
   "name": "python",
   "nbconvert_exporter": "python",
   "pygments_lexer": "ipython3",
   "version": "3.10.2"
  },
  "orig_nbformat": 4
 },
 "nbformat": 4,
 "nbformat_minor": 2
}
