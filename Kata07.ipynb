{
 "cells": [
  {
   "cell_type": "markdown",
   "metadata": {},
   "source": [
    "# Ejercicio 1"
   ]
  },
  {
   "cell_type": "code",
   "execution_count": 5,
   "metadata": {},
   "outputs": [],
   "source": [
    "planetas = []\n",
    "nuevo_planeta = input(\"Capture el nombre del planeta: \")\n",
    "\n",
    "while(nuevo_planeta != \"Terminado\"):\n",
    "    if(nuevo_planeta):\n",
    "        planetas.append(nuevo_planeta)\n",
    "    nuevo_planeta = input(\"Introduzca un nuevo planeta o escriba \"\"Terminado\"\" para finalizar\")"
   ]
  },
  {
   "cell_type": "markdown",
   "metadata": {},
   "source": [
    "# Ejercicio 2"
   ]
  },
  {
   "cell_type": "code",
   "execution_count": 6,
   "metadata": {},
   "outputs": [
    {
     "name": "stdout",
     "output_type": "stream",
     "text": [
      "Marte\n",
      "Jupiter\n",
      "Saturno\n",
      "Urano\n"
     ]
    }
   ],
   "source": [
    "planetas = []\n",
    "nuevo_planeta = input(\"Capture el nombre del planeta: \")\n",
    "\n",
    "while(nuevo_planeta != \"Terminado\"):\n",
    "    if(nuevo_planeta):\n",
    "        planetas.append(nuevo_planeta)\n",
    "    nuevo_planeta = input(\"Capture un nuevo planeta o escriba \"\"Terminado\"\" para finalizar\")\n",
    "\n",
    "for planeta in planetas:\n",
    "    print(planeta)"
   ]
  }
 ],
 "metadata": {
  "interpreter": {
   "hash": "2c81d56ff54570a98b309bc706ec3355e18e14e7ca493697e053789ee4afa6ac"
  },
  "kernelspec": {
   "display_name": "Python 3.10.2 64-bit",
   "language": "python",
   "name": "python3"
  },
  "language_info": {
   "codemirror_mode": {
    "name": "ipython",
    "version": 3
   },
   "file_extension": ".py",
   "mimetype": "text/x-python",
   "name": "python",
   "nbconvert_exporter": "python",
   "pygments_lexer": "ipython3",
   "version": "3.10.2"
  },
  "orig_nbformat": 4
 },
 "nbformat": 4,
 "nbformat_minor": 2
}
