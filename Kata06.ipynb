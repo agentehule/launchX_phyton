{
 "cells": [
  {
   "cell_type": "markdown",
   "metadata": {},
   "source": [
    "# Ejercicio 1"
   ]
  },
  {
   "cell_type": "code",
   "execution_count": 20,
   "metadata": {},
   "outputs": [
    {
     "name": "stdout",
     "output_type": "stream",
     "text": [
      "8 planetas en la lista\n",
      "Pluton es el último planeta\n"
     ]
    }
   ],
   "source": [
    "planets = [\"Mercurio\",\"Venus\",\"Tierra\",\"Marte\",\"Jupiter\",\"Saturno\",\"Neptuno\",\"Urano\"]\n",
    "\n",
    "print(len(planets),\"planetas en la lista\")\n",
    "\n",
    "planets.append(\"Pluton\")\n",
    "print(planets[-1] + \" es el último planeta\")"
   ]
  },
  {
   "cell_type": "markdown",
   "metadata": {},
   "source": [
    "# Ejercicio 2"
   ]
  },
  {
   "cell_type": "code",
   "execution_count": 21,
   "metadata": {},
   "outputs": [
    {
     "name": "stdout",
     "output_type": "stream",
     "text": [
      "Planetas mas cercanos al Sol que Jupiter\n",
      "['Mercurio', 'Venus', 'Tierra', 'Marte']\n",
      "Planetas mas lejanos al Sol que Jupiter\n",
      "['Saturno', 'Neptuno', 'Urano', 'Pluton']\n"
     ]
    }
   ],
   "source": [
    "#Planetas listados\n",
    "\n",
    "planets = [\"Mercurio\",\"Venus\",\"Tierra\",\"Marte\",\"Jupiter\",\"Saturno\",\"Neptuno\",\"Urano\",\"Pluton\"]\n",
    "\n",
    "planeta = input(\"Introduzca el nombre del planeta (Use mayúsculas en el nombre del planeta)\")\n",
    "index = planets.index(planeta)\n",
    "\n",
    "print('Planetas mas cercanos al Sol que ' + planeta)\n",
    "print(planets[0:index:])\n",
    "\n",
    "print('Planetas mas lejanos al Sol que ' + planeta)\n",
    "print(planets[index + 1:])"
   ]
  }
 ],
 "metadata": {
  "interpreter": {
   "hash": "2c81d56ff54570a98b309bc706ec3355e18e14e7ca493697e053789ee4afa6ac"
  },
  "kernelspec": {
   "display_name": "Python 3.10.2 64-bit",
   "language": "python",
   "name": "python3"
  },
  "language_info": {
   "codemirror_mode": {
    "name": "ipython",
    "version": 3
   },
   "file_extension": ".py",
   "mimetype": "text/x-python",
   "name": "python",
   "nbconvert_exporter": "python",
   "pygments_lexer": "ipython3",
   "version": "3.10.2"
  },
  "orig_nbformat": 4
 },
 "nbformat": 4,
 "nbformat_minor": 2
}
