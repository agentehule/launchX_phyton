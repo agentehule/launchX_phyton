{
 "cells": [
  {
   "cell_type": "markdown",
   "metadata": {},
   "source": [
    "## Módulo 3\n",
    "Ejercicio 1"
   ]
  },
  {
   "cell_type": "code",
   "execution_count": 13,
   "metadata": {},
   "outputs": [
    {
     "name": "stdout",
     "output_type": "stream",
     "text": [
      "¡ALERTA! Un asteroide se acerca a gran velocidad\n"
     ]
    }
   ],
   "source": [
    "asteroide = int(input(\"Escribe la velocidad del asteroide\" ))\n",
    "\n",
    "if asteroide >= 25:\n",
    "    print('¡ALERTA! Un asteroide se acerca a gran velocidad')\n",
    "else:\n",
    "    print('Todo en orden, continua con tu misión')"
   ]
  },
  {
   "cell_type": "markdown",
   "metadata": {},
   "source": [
    "##\n",
    "Ejercicio 2"
   ]
  },
  {
   "cell_type": "code",
   "execution_count": 6,
   "metadata": {},
   "outputs": [
    {
     "name": "stdout",
     "output_type": "stream",
     "text": [
      "Mira hacía arriba! Hay una luz mágica en el cielo\n"
     ]
    }
   ],
   "source": [
    "asteroide = int(input(\"Escribe la velocidad del asteroide\" ))\n",
    "\n",
    "if asteroide > 20:\n",
    "    print('Mira hacía arriba! Hay una luz mágica en el cielo')\n",
    "elif asteroide == 20:\n",
    "    print('Mira hacía arriba! Hay una luz mágica en el cielo')\n",
    "else:\n",
    "    print('Aquí no hay nada que ver')"
   ]
  },
  {
   "cell_type": "markdown",
   "metadata": {},
   "source": [
    "##\n",
    "Ejercicio 3"
   ]
  },
  {
   "cell_type": "code",
   "execution_count": 12,
   "metadata": {},
   "outputs": [
    {
     "name": "stdout",
     "output_type": "stream",
     "text": [
      "¡ALERTA! Un asteroide peligroso se acerca a la tierra\n"
     ]
    }
   ],
   "source": [
    "velocidad_asteroide = int(input(\"Escribe la velocidad del asteroide\" ))\n",
    "tamaño_asteroide = int(input(\"Escribe el tamaño del asteroide\" ))\n",
    "\n",
    "if velocidad_asteroide > 25 and tamaño_asteroide >25:\n",
    "    print('¡ALERTA! Un asteroide peligroso se acerca a la tierra')\n",
    "elif velocidad_asteroide >= 20:\n",
    "    print('¡Mira hacía arriba! Hay una luz mágica en el cielo')\n",
    "elif velocidad_asteroide >= 20:\n",
    "    print('Aquí no hay nada que ver')\n",
    "else:\n",
    "    print('Aquí no hay nada que ver') \n"
   ]
  }
 ],
 "metadata": {
  "interpreter": {
   "hash": "2c81d56ff54570a98b309bc706ec3355e18e14e7ca493697e053789ee4afa6ac"
  },
  "kernelspec": {
   "display_name": "Python 3.10.2 64-bit",
   "language": "python",
   "name": "python3"
  },
  "language_info": {
   "codemirror_mode": {
    "name": "ipython",
    "version": 3
   },
   "file_extension": ".py",
   "mimetype": "text/x-python",
   "name": "python",
   "nbconvert_exporter": "python",
   "pygments_lexer": "ipython3",
   "version": "3.10.2"
  },
  "orig_nbformat": 4
 },
 "nbformat": 4,
 "nbformat_minor": 2
}
