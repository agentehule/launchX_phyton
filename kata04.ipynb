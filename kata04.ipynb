{
 "cells": [
  {
   "cell_type": "markdown",
   "metadata": {},
   "source": [
    "# Ejercicio 1"
   ]
  },
  {
   "cell_type": "code",
   "execution_count": 14,
   "metadata": {},
   "outputs": [
    {
     "name": "stdout",
     "output_type": "stream",
     "text": [
      "\n",
      "On average, the Moon moves 4cm away from the Earth every year\n",
      "The highest On average, \n",
      "the Moon moves 4cm away from the Earth every year\n",
      "The highest daylight temperature of the Moon is 127 C.\n",
      "\n",
      "On average, the Moon moves 4cm away from the Earth every year\n",
      "The highest On average, \n",
      "the Moon moves 4cm away from the Earth every year\n",
      "The highest daylight temperature of the Moon is 127 Celsius.\n"
     ]
    }
   ],
   "source": [
    "text = \"\"\"Interesting facts about the Moon. The Moon is Earth's only satellite. There are several interesting facts about the Moon and how it affects life here on Earth. \n",
    "On average, the Moon moves 4cm away from the Earth every year. This yearly drift is not significant enough to cause immediate effects on Earth. The highest On average, \n",
    "the Moon moves 4cm away from the Earth every year. This yearly drift is not significant enough to cause immediate effects on Earth. The highest daylight temperature of the Moon is 127 C.\"\"\"\n",
    "\n",
    "\n",
    "#Dividiendo el texto en oraciones\n",
    "sentences = text.split('. ')\n",
    "\n",
    "#Palabras clave para búsqueda\n",
    "key_words = [\"average\", \"temperature\", \"distance\"]\n",
    "\n",
    "#Bucle para mostrar solo los datos sobre la luna con las palabras clave key_words\n",
    "\n",
    "for sentence in sentences:\n",
    "    if(key_words[0] in sentence or key_words[1] in sentence or key_words[2] in sentence):\n",
    "        print(sentence)\n",
    "\n",
    "#Actualizar bucle para cambiar C a Celsius\n",
    "\n",
    "for sentence in sentences:\n",
    "    if(key_words[0] in sentence or key_words[1] in sentence or key_words[2] in sentence):\n",
    "        print(sentence.replace('C', \"Celsius\"))\n",
    "\n"
   ]
  },
  {
   "cell_type": "markdown",
   "metadata": {},
   "source": [
    "# Ejercicio 2"
   ]
  },
  {
   "cell_type": "code",
   "execution_count": 15,
   "metadata": {},
   "outputs": [
    {
     "name": "stdout",
     "output_type": "stream",
     "text": [
      "Gravity facts about Moon\n",
      "------------------------------------------------------------\n",
      "Planet name: Earth \n",
      "Gravity on Moon: 1.6199999999999999 m/s2\n",
      "\n",
      "Gravity facts about Moon\n",
      " ------------------------------------------------------------\n",
      "Planet name: Marte \\Gravity on Ganímedes: 0.00143 m/s2\n"
     ]
    }
   ],
   "source": [
    "# Datos\n",
    "\n",
    "name = \"Moon\"\n",
    "gravity = 0.00162\n",
    "planet = \"Earth\"\n",
    "\n",
    "#Titulo\n",
    "\n",
    "title = f\"Gravity facts about {name}\"\n",
    "template = f\"{title}\\n{'-'*60}\\nPlanet name: {planet} \\nGravity on {name}: {gravity*1000} m/s2\"\n",
    "print(template.format(title = title.format(name = name), planet = planet, name = name, gravity = gravity))\n",
    "\n",
    "# Nueva Plantilla\n",
    "\n",
    "luna = \"Ganímedes\"\n",
    "gravedad = 0.00143\n",
    "planeta = \"Marte\"\n",
    "\n",
    "newTemplate = f\"{title}\\n {'-'*60}\\nPlanet name: {planeta} \\Gravity on {luna}: {gravedad} m/s2\"\n",
    "print(\"\\n\" + newTemplate.format(title.format(luna = luna), planeta = planeta, luna = luna, gravedad = str(gravity *1000)))"
   ]
  }
 ],
 "metadata": {
  "interpreter": {
   "hash": "2c81d56ff54570a98b309bc706ec3355e18e14e7ca493697e053789ee4afa6ac"
  },
  "kernelspec": {
   "display_name": "Python 3.10.2 64-bit",
   "language": "python",
   "name": "python3"
  },
  "language_info": {
   "codemirror_mode": {
    "name": "ipython",
    "version": 3
   },
   "file_extension": ".py",
   "mimetype": "text/x-python",
   "name": "python",
   "nbconvert_exporter": "python",
   "pygments_lexer": "ipython3",
   "version": "3.10.2"
  },
  "orig_nbformat": 4
 },
 "nbformat": 4,
 "nbformat_minor": 2
}
