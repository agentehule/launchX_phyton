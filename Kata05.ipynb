{
 "cells": [
  {
   "cell_type": "markdown",
   "metadata": {},
   "source": [
    "# Ejercicio 1"
   ]
  },
  {
   "cell_type": "code",
   "execution_count": 9,
   "metadata": {},
   "outputs": [
    {
     "name": "stdout",
     "output_type": "stream",
     "text": [
      "628949330\n",
      "390577533.93\n"
     ]
    }
   ],
   "source": [
    "primer_planeta = 149597870\n",
    "segundo_planeta = 778547200\n",
    "\n",
    "distancia_km = (segundo_planeta - primer_planeta)\n",
    "print(distancia_km)\n",
    "\n",
    "distancia_mi = (distancia_km * 0.621)\n",
    "print(distancia_mi)\n",
    "\n"
   ]
  },
  {
   "cell_type": "markdown",
   "metadata": {},
   "source": [
    "# Ejercicio 2"
   ]
  },
  {
   "cell_type": "code",
   "execution_count": 10,
   "metadata": {},
   "outputs": [
    {
     "name": "stdout",
     "output_type": "stream",
     "text": [
      "390577533.93\n"
     ]
    }
   ],
   "source": [
    "planeta1 = int(input(\"Introduzca la distancia del primer planeta: \"))\n",
    "planeta2 = int(input(\"Introduzca la distancia del segundo planeta: \"))\n",
    "\n",
    "distanciaMillas = (planeta1 - planeta2) * 0.621\n",
    "print(abs(distancia_mi))"
   ]
  }
 ],
 "metadata": {
  "interpreter": {
   "hash": "2c81d56ff54570a98b309bc706ec3355e18e14e7ca493697e053789ee4afa6ac"
  },
  "kernelspec": {
   "display_name": "Python 3.10.2 64-bit",
   "language": "python",
   "name": "python3"
  },
  "language_info": {
   "codemirror_mode": {
    "name": "ipython",
    "version": 3
   },
   "file_extension": ".py",
   "mimetype": "text/x-python",
   "name": "python",
   "nbconvert_exporter": "python",
   "pygments_lexer": "ipython3",
   "version": "3.10.2"
  },
  "orig_nbformat": 4
 },
 "nbformat": 4,
 "nbformat_minor": 2
}
